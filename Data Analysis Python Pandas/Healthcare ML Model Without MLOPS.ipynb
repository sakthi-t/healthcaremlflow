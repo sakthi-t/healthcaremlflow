{
 "cells": [
  {
   "cell_type": "code",
   "execution_count": 1,
   "id": "4af27d76",
   "metadata": {},
   "outputs": [
    {
     "name": "stdout",
     "output_type": "stream",
     "text": [
      "Fitting 5 folds for each of 16 candidates, totalling 80 fits\n",
      "Best parameters found:  {'alpha': 0.5, 'l1_ratio': 0.7}\n",
      "Best ElasticNet model (alpha=0.5, l1_ratio=0.7):\n",
      "  RMSE: 2.0109321397445847\n",
      "  MAE: 1.6713187671935066\n",
      "  R2: 0.4214615482514946\n"
     ]
    }
   ],
   "source": [
    "import pandas as pd\n",
    "import numpy as np\n",
    "from sklearn.model_selection import train_test_split, GridSearchCV\n",
    "from sklearn.linear_model import ElasticNet\n",
    "from sklearn.metrics import mean_squared_error, mean_absolute_error, r2_score\n",
    "import warnings\n",
    "\n",
    "warnings.filterwarnings(\"ignore\")\n",
    "\n",
    "# Load the data\n",
    "df = pd.read_csv('../Hba1cData/fact_visits_final_rev01.csv')\n",
    "\n",
    "# Select relevant columns\n",
    "df = df[['patient_id', 'visited_date', 'sugar', 'hba1c']]\n",
    "\n",
    "# Convert visited_date to datetime \n",
    "df['visited_date'] = pd.to_datetime(df['visited_date'])\n",
    "\n",
    "\n",
    "# Extracting year, month, and day from visited_date\n",
    "df['year'] = df['visited_date'].dt.year\n",
    "df['month'] = df['visited_date'].dt.month\n",
    "df['day'] = df['visited_date'].dt.day\n",
    "\n",
    "# Dropping the original visited_date column\n",
    "df = df.drop(columns=['visited_date'])\n",
    "\n",
    "# Defining features and target\n",
    "X = df.drop(columns=['hba1c'])\n",
    "y = df['hba1c']\n",
    "\n",
    "# Splitting the data\n",
    "train_x, test_x, train_y, test_y = train_test_split(X, y, test_size=0.25, random_state=42)\n",
    "\n",
    "# Defining the model\n",
    "model = ElasticNet()\n",
    "\n",
    "# Defining the parameters grid\n",
    "param_grid = {\n",
    "    'alpha': [0.1, 0.5, 1.0, 5.0],\n",
    "    'l1_ratio': [0.1, 0.5, 0.7, 0.9]\n",
    "}\n",
    "\n",
    "# Initializing GridSearchCV\n",
    "grid_search = GridSearchCV(estimator=model, param_grid=param_grid, cv=5, scoring='neg_mean_squared_error', n_jobs=-1, verbose=2)\n",
    "\n",
    "# Fitting GridSearchCV\n",
    "grid_search.fit(train_x, train_y)\n",
    "\n",
    "# Getting the best parameters\n",
    "best_params = grid_search.best_params_\n",
    "print(\"Best parameters found: \", best_params)\n",
    "\n",
    "# Training the model with the best parameters\n",
    "best_model = grid_search.best_estimator_\n",
    "\n",
    "# Predicting on the test set\n",
    "predicted_values = best_model.predict(test_x)\n",
    "\n",
    "# Evaluating the model\n",
    "rmse = np.sqrt(mean_squared_error(test_y, predicted_values))\n",
    "mae = mean_absolute_error(test_y, predicted_values)\n",
    "r2 = r2_score(test_y, predicted_values)\n",
    "\n",
    "print(f\"Best ElasticNet model (alpha={best_params['alpha']}, l1_ratio={best_params['l1_ratio']}):\")\n",
    "print(f\"  RMSE: {rmse}\")\n",
    "print(f\"  MAE: {mae}\")\n",
    "print(f\"  R2: {r2}\")\n"
   ]
  },
  {
   "cell_type": "code",
   "execution_count": null,
   "id": "14e78db0",
   "metadata": {},
   "outputs": [],
   "source": []
  }
 ],
 "metadata": {
  "kernelspec": {
   "display_name": "Python 3 (ipykernel)",
   "language": "python",
   "name": "python3"
  },
  "language_info": {
   "codemirror_mode": {
    "name": "ipython",
    "version": 3
   },
   "file_extension": ".py",
   "mimetype": "text/x-python",
   "name": "python",
   "nbconvert_exporter": "python",
   "pygments_lexer": "ipython3",
   "version": "3.11.5"
  }
 },
 "nbformat": 4,
 "nbformat_minor": 5
}
